{
 "cells": [
  {
   "cell_type": "code",
   "execution_count": 1,
   "metadata": {},
   "outputs": [],
   "source": [
    "import pandas as pd\n",
    "from bs4 import BeautifulSoup as bs"
   ]
  },
  {
   "cell_type": "code",
   "execution_count": 2,
   "metadata": {},
   "outputs": [],
   "source": [
    "html_file = \"get_albums.html\""
   ]
  },
  {
   "cell_type": "code",
   "execution_count": 3,
   "metadata": {},
   "outputs": [],
   "source": [
    "with open(html_file, 'r', encoding=\"utf-8-sig\") as f:\n",
    "    soup = bs(f, 'html.parser')\n",
    "    artist_album = []\n",
    "    full_list = soup.find_all(\"button\", class_=\"chartlist-play-button js-playlink-station desktop-playlink\")\n",
    "    scrobble_count = soup.find_all(\"span\", class_=\"chartlist-count-bar-value\")\n",
    "    for data, count in zip(full_list, scrobble_count):\n",
    "        artist = data[\"data-station-url\"].split('/')[4]\n",
    "        album = data[\"data-station-url\"].split('/')[5]\n",
    "        artist_album.append((artist, album))"
   ]
  },
  {
   "cell_type": "code",
   "execution_count": 4,
   "metadata": {},
   "outputs": [],
   "source": [
    "df = pd.DataFrame(artist_album, columns =['Artist', 'Album'])"
   ]
  },
  {
   "cell_type": "code",
   "execution_count": 5,
   "metadata": {},
   "outputs": [
    {
     "name": "stdout",
     "output_type": "stream",
     "text": [
      "<p>Forced Witness  <br><i>Alex Cameron</i></p>\n",
      "<p>Off-Key In Hamburg  <br><i>Father John Misty</i></p>\n",
      "<p>I Love You, Honeybear  <br><i>Father John Misty</i></p>\n",
      "<p>Fear Fun  <br><i>Father John Misty</i></p>\n",
      "<p>AURORA  <br><i>Daisy Jones & The Six</i></p>\n",
      "<p>1989 (Deluxe Edition)  <br><i>Taylor Swift</i></p>\n",
      "<p>Camp  <br><i>Childish Gambino</i></p>\n",
      "<p>Miami Memory  <br><i>Alex Cameron</i></p>\n",
      "<p>Paul's Boutique (20th Anniversary Remastered Edition)  <br><i>Beastie Boys</i></p>\n",
      "<p>God's Favorite Customer  <br><i>Father John Misty</i></p>\n",
      "<p>folklore  <br><i>Taylor Swift</i></p>\n",
      "<p>Midnights (3am Edition)  <br><i>Taylor Swift</i></p>\n",
      "<p>Lover  <br><i>Taylor Swift</i></p>\n",
      "<p>Norman Fucking Rockwell!  <br><i>Lana Del Rey</i></p>\n",
      "<p>Popstar: Never Stop Never Stopping  <br><i>The Lonely Island</i></p>\n",
      "<p>Ultraviolence (Deluxe)  <br><i>Lana Del Rey</i></p>\n",
      "<p>FOUR (Deluxe)  <br><i>One Direction</i></p>\n",
      "<p>The Loneliest Time  <br><i>Carly Rae Jepsen</i></p>\n",
      "<p>evermore  <br><i>Taylor Swift</i></p>\n",
      "<p>Fearless (Taylor's Version)  <br><i>Taylor Swift</i></p>\n",
      "<p>Pure Comedy  <br><i>Father John Misty</i></p>\n",
      "<p>Made in the A.M. (Deluxe Edition)  <br><i>One Direction</i></p>\n",
      "<p>Because the Internet  <br><i>Childish Gambino</i></p>\n",
      "<p>Antics  <br><i>Interpol</i></p>\n",
      "<p>Licensed to Ill  <br><i>Beastie Boys</i></p>\n",
      "<p>Speak Now (Taylor's Version)  <br><i>Taylor Swift</i></p>\n",
      "<p>Mamma Mia! Here We Go Again (Original Motion Picture Soundtrack)  <br><i>Cast of Mamma Mia! The Movie</i></p>\n",
      "<p>Born to Die - The Paradise Edition  <br><i>Lana Del Rey</i></p>\n",
      "<p>Paul's Boutique (20th Anniversary Edition %2F Remastered)  <br><i>Beastie Boys</i></p>\n",
      "<p>Live at The Midland Theatre - Kansas City, MO 08%2F09%2F22  <br><i>Father John Misty</i></p>\n",
      "<p>Bronco  <br><i>Orville Peck</i></p>\n",
      "<p>Prelude to Ecstasy  <br><i>The Last Dinner Party</i></p>\n",
      "<p>Turn on the Bright Lights  <br><i>Interpol</i></p>\n",
      "<p>folklore (deluxe version)  <br><i>Taylor Swift</i></p>\n",
      "<p>Anthem %252B3  <br><i>Father John Misty</i></p>\n",
      "<p>AM  <br><i>Arctic Monkeys</i></p>\n",
      "<p>The Suburbs (Deluxe)  <br><i>Arcade Fire</i></p>\n",
      "<p>Honeymoon  <br><i>Lana Del Rey</i></p>\n",
      "<p>evermore (deluxe version)  <br><i>Taylor Swift</i></p>\n",
      "<p>Booty Shakers Ball  <br><i>Vista Kicks</i></p>\n",
      "<p>reputation  <br><i>Taylor Swift</i></p>\n",
      "<p>Midnight Memories (Deluxe)  <br><i>One Direction</i></p>\n",
      "<p>Twenty Something Nightmare  <br><i>Vista Kicks</i></p>\n",
      "<p>Born in the U.S.A.  <br><i>Bruce Springsteen</i></p>\n",
      "<p>Lust for Life  <br><i>Lana Del Rey</i></p>\n",
      "<p>ANTI (Deluxe)  <br><i>Rihanna</i></p>\n",
      "<p>Mirage (Deluxe Edition)  <br><i>Fleetwood Mac</i></p>\n",
      "<p>Live at Electric Lady  <br><i>Father John Misty</i></p>\n",
      "<p>Traumazine  <br><i>Megan Thee Stallion</i></p>\n",
      "<p>Rumours (Super Deluxe)  <br><i>Fleetwood Mac</i></p>\n"
     ]
    },
    {
     "data": {
      "text/plain": [
       "0     None\n",
       "1     None\n",
       "2     None\n",
       "3     None\n",
       "4     None\n",
       "5     None\n",
       "6     None\n",
       "7     None\n",
       "8     None\n",
       "9     None\n",
       "10    None\n",
       "11    None\n",
       "12    None\n",
       "13    None\n",
       "14    None\n",
       "15    None\n",
       "16    None\n",
       "17    None\n",
       "18    None\n",
       "19    None\n",
       "20    None\n",
       "21    None\n",
       "22    None\n",
       "23    None\n",
       "24    None\n",
       "25    None\n",
       "26    None\n",
       "27    None\n",
       "28    None\n",
       "29    None\n",
       "30    None\n",
       "31    None\n",
       "32    None\n",
       "33    None\n",
       "34    None\n",
       "35    None\n",
       "36    None\n",
       "37    None\n",
       "38    None\n",
       "39    None\n",
       "40    None\n",
       "41    None\n",
       "42    None\n",
       "43    None\n",
       "44    None\n",
       "45    None\n",
       "46    None\n",
       "47    None\n",
       "48    None\n",
       "49    None\n",
       "dtype: object"
      ]
     },
     "execution_count": 5,
     "metadata": {},
     "output_type": "execute_result"
    }
   ],
   "source": [
    "def get(df):\n",
    "    album = df[\"Album\"].replace(\"%27\", \"'\").replace('+',\" \")\n",
    "    artist = df['Artist'].replace(\"%27\", \"'\").replace('+',\" \")\n",
    "    print(f\"<p>{album}  <br><i>{artist}</i></p>\")\n",
    "\n",
    "df.apply(get,axis=1)"
   ]
  },
  {
   "cell_type": "code",
   "execution_count": null,
   "metadata": {},
   "outputs": [],
   "source": []
  }
 ],
 "metadata": {
  "kernelspec": {
   "display_name": "base",
   "language": "python",
   "name": "python3"
  },
  "language_info": {
   "codemirror_mode": {
    "name": "ipython",
    "version": 3
   },
   "file_extension": ".py",
   "mimetype": "text/x-python",
   "name": "python",
   "nbconvert_exporter": "python",
   "pygments_lexer": "ipython3",
   "version": "3.10.9"
  }
 },
 "nbformat": 4,
 "nbformat_minor": 2
}
